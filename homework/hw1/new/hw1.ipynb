{
 "cells": [
  {
   "cell_type": "markdown",
   "metadata": {},
   "source": [
    "# STA 208: Homework 1 (Do not distribute)\n",
    "\n",
    "## Due 4/10/19 midnight \n",
    "\n",
    "__Instructions:__ To make grading easier for the TAs please submit it on canvas in a zip file with either the scanned solutions clearly written or in the jupyter notebook below.  The zip file should include all of your code either in this notebook file, or a separate python file that is imported and ran in this notebook.  We should be able to open this notebook and run everything here by running the cells in sequence.  The written portions can be either done in markdown and TeX in new cells or written clearly by hand and scanned.\n",
    "\n",
    "- Code should be well organized and documented\n",
    "- All math should be clear and make sense sequentially\n",
    "- When in doubt explain what is going on\n",
    "- You will be graded on correctness of your math, code efficiency and succinctness, and conclusions and modelling decisions"
   ]
  },
  {
   "cell_type": "markdown",
   "metadata": {},
   "source": [
    "__Exercise 1__ (20 pts)\n",
    "\n",
    "Consider the binary classification setting where the training data is $x_i \\in \\mathbb R^p, y_i \\in \\{0,1\\}, i=1,\\ldots,n$ and recall the empirical risk (as a function of the predictor $g : \\mathbb R^p \\to \\{0,1\\}$),\n",
    "$$\n",
    "R_n(g) = \\frac 1n \\sum_{i=1}^n \\ell(y_i, g(x_i)),\n",
    "$$\n",
    "and the true risk is \n",
    "$$\n",
    "R(g) = \\mathbb E \\ell(Y,g(X))\n",
    "$$\n",
    "where $X,Y$ are drawn from their joint distribution $f_{X,Y}(x,y)$.\n",
    "\n",
    "1. Suppose that the loss function is the Hamming loss, $\\ell(y,\\hat y) = 1\\{ y \\ne \\hat y\\}$.  What is the predictor that minimizes the True risk?  (Hint: derive an expression for this based on the joint distribution - you can use expressions involving conditional probabilities.)  This predictor is called the Bayes rule.\n",
    "2. Suppose that we know that the Bayes rule can be written in the form, \n",
    "$$\n",
    "h_j(x) = 1\\{ x_j > 0 \\}, \n",
    "$$\n",
    "for some $j = 1,\\ldots,p$, but we don't know which one.  Now using the empirical risk, what is a reasonable classification algorithm (Hint: you can think of finding a good classifier as a problem of finding $j$).  Describe the fit and predict methods. \n",
    "3. (Challenging) Suppose that I told you that for any fixed $j$ the following probability bound holds (from Hoeffding's inequality)\n",
    "$$\n",
    "\\mathbb P \\left\\{ |R_n(h_j) - R(h_j)| > t \\right\\} \\le 2 \\exp \\left( - 2 n t^2 \\right).\n",
    "$$\n",
    "If $p=10$, how many samples would I need to get a classifier $\\hat g$, from the previous question (part 2), such that \n",
    "$$\n",
    "\\mathbb P \\left\\{ R(\\hat g) < R(h) + 0.1 \\right\\} \\ge 0.95.\n",
    "$$\n",
    "where $h$ is the Bayes rule, namely, the $h_j$ that minimizes $R$.\n",
    "(Hint: use the union bound to show that $R_n(\\hat g) \\approx R(\\hat g)$ and use the fact that $R_n(\\hat g) \\le R_n(h_j)$ for any $j$ because it is in the minimizer.)"
   ]
  },
  {
   "cell_type": "markdown",
   "metadata": {},
   "source": [
    "__Exercise 2__ (20 pts)\n",
    "\n",
    "Consider the regression setting in which $x_i \\in \\mathbb R^p$ and $y_i \\in \\mathbb R$, for $i=1,\\ldots,n$ and $p < n$.\n",
    "\n",
    "1. For a given regressor, let $\\hat y_i$ be prediction given $x_i$, and $\\hat y$ be the vector form.  Show that both linear regression and k-nearest neighbors can be written in the form\n",
    "$$\n",
    "\\hat y = H y,\n",
    "$$\n",
    "where $H$ is dependent on $X$ (the matrix of where each row is $x_i$), assuming that $p < n$ and $X$ is full rank.  Give an expression for $H$ or an algorithm for computing $H$.  Assume that the KNN algorithm will use the same point as its own nearest neighbor (this is consistent with what you get if you use the same dataset in fit and predict in sklearn.)  You can just write it in words or pseudocode. \n",
    "2. Give a simple modification to your algorithm to compute the KNN's $H$ matrix so that a sample does not use its own point.  Derive an expression for the leave-one-out cross validated squared error based on this $H$. You can just write it in words or pseudocode. \n",
    "3. For linear regression (with $p < n$ and $X$ is full rank), let $X = U D V^\\top$ be the singular value decomposition where $U$ is $n \\times p$, and $V, D$ is $p \\times p$ ($D$ is diagonal). Derive an expression for the OLS coefficients $\\beta = A b$ such that $A$ is $p \\times p$ and depends on $V$ and $D$, and $b$ is a $p$ vector and does not depend on $D$.  Describe a fit method that precomputes these quantities separately, and describe a predict method.\n",
    "\n",
    "\n",
    "4. Consider a regressor that performs OLS using the SVD above, but every instance of D will only use the largest $r$ values, and only the first $r$ columns of $U,V$ would be used.  Let $U_r, V_r$ be the $n \\times r$ and $p \\times r$ eigenvector matrices.  Call the new $r \\times r$ matrix $D_r$ ($r < p$) which just has the top $r$ singular values.  Then the new coefficient vector is the OLS computed as if the design matrix is modified by $X \\gets U_r D_r V_r^\\top$.  Given that you have computed $b$ already, how could you make a method `change_rank` that recomputes $A$ with $D_r$ instead of $D$?  What is its computational complexity (it should not depend on n)?"
   ]
  },
  {
   "cell_type": "markdown",
   "metadata": {},
   "source": [
    "__Exercise 3__ (30 pts)\n",
    "\n",
    "We call the method that zeros out all but $r$ largest singular values in OLS, singular value regression.  Implement the singular value regressor as a sklearn style class below.  Test it by simulating the training and test data from the `gen_LR_data` function below and calculate the average square error on the test set.  Do this for each choice of `r` in the fit function (from 1 to $p$)."
   ]
  },
  {
   "cell_type": "code",
   "execution_count": 1,
   "metadata": {},
   "outputs": [],
   "source": [
    "import numpy as np\n",
    "#from scipy.linalg import svd"
   ]
  },
  {
   "cell_type": "code",
   "execution_count": 2,
   "metadata": {
    "collapsed": true
   },
   "outputs": [],
   "source": [
    "class SingularValueRegressor:\n",
    "    \"\"\"\n",
    "    : A regression object that uses the SVD to fit and predict\n",
    "    : Init: specify rank r\n",
    "    : .fit: solve the SVD of X and precompute beta\n",
    "    : .predict: Return y hat for X_test\n",
    "    \"\"\"\n",
    "    \n",
    "    def __init__(self,r):\n",
    "        \"\"\"\n",
    "        : Store the rank\n",
    "        \"\"\"\n",
    "        self.r = r\n",
    "        \n",
    "    def fit(self,X,y):\n",
    "        \"\"\"\n",
    "        : Computes and stores the SVD (use scipy.linalg.svd)\n",
    "        : Computes beta for rank r singular value regression\n",
    "        \"\"\"\n",
    "        \n",
    "    def predict(self,X_test):\n",
    "        \"\"\"\n",
    "        : Outputs the predicted y given the predictors X_test\n",
    "        \"\"\"\n",
    "        \n",
    "    def change_rank(self,r):\n",
    "        \"\"\"\n",
    "        : Assumes that the SVD has been computed and uses it to change the rank; after\n",
    "        : running the new regressor object should be as if we fit with the new rank r\n",
    "        \"\"\""
   ]
  },
  {
   "cell_type": "code",
   "execution_count": 3,
   "metadata": {},
   "outputs": [],
   "source": [
    "def gen_LR_data(r = 10, p = 20, n = 100):\n",
    "    \"\"\"\n",
    "    : generate data from an approx low rank regression model\n",
    "    \"\"\"\n",
    "    alpha = np.random.chisquare(1,size = (p,r)) #X coefficients\n",
    "    Z = np.random.normal(size=(n,r)) #X covariates\n",
    "    beta = np.random.normal(size = r) #reg covs\n",
    "    mu = Z @ beta #hidden mean\n",
    "    Xmean = Z @ alpha.T #random transformation of Z\n",
    "    X = Xmean + np.random.normal(0,.5,size=(n,p)) #add noise - not exactly low rank\n",
    "    X_test = Xmean + np.random.normal(0,.5,size=(n,p))\n",
    "    y = mu + np.random.normal(0,1,size=(n))\n",
    "    y_test = mu + np.random.normal(0,1,size=(n))\n",
    "    return (X,y,X_test,y_test)"
   ]
  },
  {
   "cell_type": "code",
   "execution_count": 4,
   "metadata": {},
   "outputs": [],
   "source": [
    "X,y,X_test,y_test = gen_LR_data()"
   ]
  },
  {
   "cell_type": "markdown",
   "metadata": {},
   "source": [
    "__Exercise 4__ (30 pts)\n",
    "\n",
    "The dataset in the hw1 directory has a Y variable, 7 predictor variables (X1 - X7).  Using sklearn and the class that you constructed above, compare ridge regression, OLS, kNN, and SingularValueRegressor.  Compare and tune the methods using appropriate testing procedures.  Comment on the tuning of each parameter in ridge, kNN, and SingularValueRegressor in markdown.  Be sure to standardize the X variables first and decide how to deal with NAs.  "
   ]
  },
  {
   "cell_type": "code",
   "execution_count": 1,
   "metadata": {},
   "outputs": [],
   "source": [
    "import pandas as pd"
   ]
  },
  {
   "cell_type": "code",
   "execution_count": 2,
   "metadata": {},
   "outputs": [
    {
     "data": {
      "text/html": [
       "<div>\n",
       "<style scoped>\n",
       "    .dataframe tbody tr th:only-of-type {\n",
       "        vertical-align: middle;\n",
       "    }\n",
       "\n",
       "    .dataframe tbody tr th {\n",
       "        vertical-align: top;\n",
       "    }\n",
       "\n",
       "    .dataframe thead th {\n",
       "        text-align: right;\n",
       "    }\n",
       "</style>\n",
       "<table border=\"1\" class=\"dataframe\">\n",
       "  <thead>\n",
       "    <tr style=\"text-align: right;\">\n",
       "      <th></th>\n",
       "      <th>Y</th>\n",
       "      <th>X1</th>\n",
       "      <th>X2</th>\n",
       "      <th>X3</th>\n",
       "      <th>X4</th>\n",
       "      <th>X5</th>\n",
       "      <th>X6</th>\n",
       "      <th>X7</th>\n",
       "    </tr>\n",
       "  </thead>\n",
       "  <tbody>\n",
       "    <tr>\n",
       "      <th>0</th>\n",
       "      <td>18.0</td>\n",
       "      <td>8.0</td>\n",
       "      <td>307.0</td>\n",
       "      <td>130.0</td>\n",
       "      <td>3504.0</td>\n",
       "      <td>12.0</td>\n",
       "      <td>70.0</td>\n",
       "      <td>1.0</td>\n",
       "    </tr>\n",
       "    <tr>\n",
       "      <th>1</th>\n",
       "      <td>15.0</td>\n",
       "      <td>8.0</td>\n",
       "      <td>350.0</td>\n",
       "      <td>165.0</td>\n",
       "      <td>3693.0</td>\n",
       "      <td>11.5</td>\n",
       "      <td>70.0</td>\n",
       "      <td>1.0</td>\n",
       "    </tr>\n",
       "    <tr>\n",
       "      <th>2</th>\n",
       "      <td>18.0</td>\n",
       "      <td>8.0</td>\n",
       "      <td>318.0</td>\n",
       "      <td>150.0</td>\n",
       "      <td>3436.0</td>\n",
       "      <td>11.0</td>\n",
       "      <td>70.0</td>\n",
       "      <td>1.0</td>\n",
       "    </tr>\n",
       "    <tr>\n",
       "      <th>3</th>\n",
       "      <td>16.0</td>\n",
       "      <td>8.0</td>\n",
       "      <td>304.0</td>\n",
       "      <td>150.0</td>\n",
       "      <td>3433.0</td>\n",
       "      <td>12.0</td>\n",
       "      <td>70.0</td>\n",
       "      <td>1.0</td>\n",
       "    </tr>\n",
       "    <tr>\n",
       "      <th>4</th>\n",
       "      <td>17.0</td>\n",
       "      <td>8.0</td>\n",
       "      <td>302.0</td>\n",
       "      <td>140.0</td>\n",
       "      <td>3449.0</td>\n",
       "      <td>10.5</td>\n",
       "      <td>70.0</td>\n",
       "      <td>1.0</td>\n",
       "    </tr>\n",
       "  </tbody>\n",
       "</table>\n",
       "</div>"
      ],
      "text/plain": [
       "      Y   X1     X2     X3      X4    X5    X6   X7\n",
       "0  18.0  8.0  307.0  130.0  3504.0  12.0  70.0  1.0\n",
       "1  15.0  8.0  350.0  165.0  3693.0  11.5  70.0  1.0\n",
       "2  18.0  8.0  318.0  150.0  3436.0  11.0  70.0  1.0\n",
       "3  16.0  8.0  304.0  150.0  3433.0  12.0  70.0  1.0\n",
       "4  17.0  8.0  302.0  140.0  3449.0  10.5  70.0  1.0"
      ]
     },
     "execution_count": 2,
     "metadata": {},
     "output_type": "execute_result"
    }
   ],
   "source": [
    "data_mat = pd.read_csv('hw1_data.csv')\n",
    "data_mat.head()"
   ]
  },
  {
   "cell_type": "markdown",
   "metadata": {},
   "source": [
    "Some notes for the NAs, you need to replace the NAs somehow to use these methods.  The SimpleImputer will replace the NAs with the mean,median, etc.  You can fit this on the training data and use this to transform for the test set.  We can see that any imputer that is fit only on the training set also can give you that the test error is an unbiased risk estimator.  Let $\\hat I$ be the imputer transform and $\\hat f$ be any trained predictor.\n",
    "\n",
    "$$\\hat I: R^p \\to R^{p}$$\n",
    "$$\\hat f: R^{p} \\to R$$\n",
    "\n",
    "For example,\n",
    "$(\\hat I(x))_j = $ $x_j$ if non-missing and $\\hat \\mu_j$ if missing \n",
    "or you could add a missingness indicator,\n",
    "$$\\hat I_2: R^p \\to R^{2p}$$\n",
    "\n",
    "$(\\hat I_2(x))_j = $ $x_j$ if non-missing and $\\hat \\mu_j$ if missing for $j =1,\\ldots,p$\n",
    "\n",
    "$(\\hat I_2(x))_{p+j} = $ $0$ if non-missing and $1$ if missing for $j =1,\\ldots,p$\n",
    "\n",
    "The trained predictor could be linear,\n",
    "ex. $\\hat f(\\hat I(x)) = \\hat I(x)^\\top \\hat \\beta$\n",
    "\n",
    "Then we can combine these steps into one predictor,\n",
    "$\\hat g(x) = \\hat f (\\hat I (x))$.\n",
    "\n",
    "The test error is still an unbiased risk estimator,\n",
    "$$\\frac{1}{n_t} \\sum_{i=n_0+1}^{n_0+n_t} (y_i - \\hat g(x_i))^2.$$"
   ]
  }
 ],
 "metadata": {
  "kernelspec": {
   "display_name": "Python 3",
   "language": "python",
   "name": "python3"
  },
  "language_info": {
   "codemirror_mode": {
    "name": "ipython",
    "version": 3
   },
   "file_extension": ".py",
   "mimetype": "text/x-python",
   "name": "python",
   "nbconvert_exporter": "python",
   "pygments_lexer": "ipython3",
   "version": "3.6.5"
  }
 },
 "nbformat": 4,
 "nbformat_minor": 2
}
