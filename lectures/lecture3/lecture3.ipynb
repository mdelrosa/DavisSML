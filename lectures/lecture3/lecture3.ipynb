{
 "cells": [
  {
   "cell_type": "markdown",
   "metadata": {
    "slideshow": {
     "slide_type": "slide"
    }
   },
   "source": [
    "# Linear Regression and Subset Selection\n",
    "\n",
    "## Stats 208: Lecture 3\n",
    "\n",
    "## Prof. Sharpnack\n",
    "\n",
    "- Lecture slides at [course github page](http://github.com/jsharpna/DavisSML)\n",
    "- Some content of these slides are from [STA 251 notes](https://github.com/jsharpna/AML) and [STA 141B lectures](https://github.com/jsharpna/141Blectures). \n",
    "- Some images and content is from ESL Ch. 3"
   ]
  },
  {
   "cell_type": "code",
   "execution_count": 64,
   "metadata": {
    "slideshow": {
     "slide_type": "skip"
    }
   },
   "outputs": [],
   "source": [
    "import numpy as np\n",
    "import matplotlib.pyplot as plt\n",
    "from sklearn import linear_model\n",
    "import scipy as sc"
   ]
  },
  {
   "cell_type": "markdown",
   "metadata": {
    "slideshow": {
     "slide_type": "slide"
    }
   },
   "source": [
    "### Recall LinearRegression.fit\n",
    "\n",
    "*Throughout let $p < n$*\n",
    "\n",
    "Fit in OLS solves the following, on training set\n",
    "$$\n",
    "\\hat \\beta = (X^\\top X)^{-1} X^\\top y\n",
    "$$\n",
    "where $X,y$ are $n \\times p$ and $n$ arrays.\n",
    "\n",
    "#### Linear solve:\n",
    "$$\n",
    "(X^\\top X) \\hat \\beta = X^\\top y\n",
    "$$"
   ]
  },
  {
   "cell_type": "markdown",
   "metadata": {
    "slideshow": {
     "slide_type": "slide"
    }
   },
   "source": [
    "### Recall LinearRegression.predict\n",
    "\n",
    "Apply predict to training set then\n",
    "$$\n",
    "\\hat y = X \\hat \\beta = X (X^\\top X)^{-1} X^\\top y\n",
    "$$\n",
    "is a projection of $y$ onto the column space of $X$.  Projection in $n$-D space.\n",
    "\n",
    "Projections are idempotent,\n",
    "$$\n",
    "P := X (X^\\top X)^{-1} X^\\top\n",
    "$$\n",
    "has\n",
    "$$\n",
    "P P = X (X^\\top X)^{-1} X^\\top X (X^\\top X)^{-1} X^\\top = X (X^\\top X)^{-1} X^\\top.\n",
    "$$"
   ]
  },
  {
   "cell_type": "markdown",
   "metadata": {
    "slideshow": {
     "slide_type": "slide"
    }
   },
   "source": [
    "<img src=\"projection.png\" width=70%>\n",
    "Image from wikipedia."
   ]
  },
  {
   "cell_type": "markdown",
   "metadata": {
    "slideshow": {
     "slide_type": "slide"
    }
   },
   "source": [
    "### Regression by Successive Orthogonalization\n",
    "#### ESL pg. 54\n",
    "\n",
    "0. Input $x_0=1, x_1, \\ldots, x_p$ columns of design matrix.\n",
    "1. Init $z_0 = x_0 = 1$\n",
    "2. For $j = 1,\\ldots,p$\n",
    " - Regress $x_j$ on $z_0,\\ldots,z_{j-1}$ giving $$\\hat \\gamma_{j,l} = \\frac{z_l^\\top x_j}{z_l^\\top z_l},$$ $l = 0, \\ldots, j-1$ and $z_j = x_j - \\sum_{k=0}^{j-1} \\hat \\gamma_{j,k} z_k$\n",
    "3. Regress $y$ on the residual $z_p$ to give $\\hat \\beta_p$"
   ]
  },
  {
   "cell_type": "markdown",
   "metadata": {
    "slideshow": {
     "slide_type": "slide"
    }
   },
   "source": [
    "### Regression by Successive Orthogonalization\n",
    "\n",
    "What does \"regress onto\" mean?\n",
    "\n",
    "Solving the normal equation \n",
    "$$\n",
    "Z^\\top Z \\hat \\gamma_j = Z^\\top x_j\n",
    "$$\n",
    "\n",
    "where $Z$ has columns $z_0, \\ldots z_{j-1}$."
   ]
  },
  {
   "cell_type": "markdown",
   "metadata": {
    "slideshow": {
     "slide_type": "fragment"
    }
   },
   "source": [
    "Why is this any easier? \n",
    "\n",
    "\n",
    "$Z$ is **orthogonal**, i.e. the columns are orthogonal, \n",
    "$$\n",
    "z_j^\\top z_k = 0, j\\ne k\n",
    "$$\n",
    "which means $Z^\\top Z$ is diagonal (easy to invert).\n",
    "\n",
    "**Practice Exercise.** Show that Successive Orthogonalization is equivalent to the Gram-Schmidt procedure for finding an orthonormal basis of column space of $X$. "
   ]
  },
  {
   "cell_type": "markdown",
   "metadata": {
    "slideshow": {
     "slide_type": "slide"
    }
   },
   "source": [
    "### Regression by Successive Orthogonalization\n",
    "\n",
    "Regress $y$ on the residual $z_p$ to give $\\hat \\beta_p$?\n",
    "\n",
    "We know that $z_p$ is the only basis element that contains $x_p$ and that regressing $y$ onto $Z$ is equivalent to regressing $y$ onto $X$."
   ]
  },
  {
   "cell_type": "markdown",
   "metadata": {
    "slideshow": {
     "slide_type": "fragment"
    }
   },
   "source": [
    "Why?\n",
    "\n",
    "We can write these matrices as \n",
    "$$\n",
    "X = Z \\Gamma\n",
    "$$\n",
    "where $Z$ is orthogonal and $\\Gamma$ is upper triangular.\n",
    "Let $D$ be the diagonal matrix with $\\| z_j\\|$ on diagonal.\n",
    "Then \n",
    "$$\n",
    "X = Z D^{-1} D \\Gamma = Q R\n",
    "$$\n",
    "for $Q = Z D^{-1}$ is $n \\times p$, $R = D \\Gamma$ is $p \\times p$.\n",
    "\n",
    "$Q$ is orthonormal ($Q^\\top Q = I$) and $R$ is upper triangular."
   ]
  },
  {
   "cell_type": "markdown",
   "metadata": {
    "slideshow": {
     "slide_type": "slide"
    }
   },
   "source": [
    "### Regression by Successive Orthogonalization\n",
    "\n",
    "\n",
    "- Normal eqn is\n",
    "$$\n",
    "X^\\top X \\hat \\beta = X^\\top y \\equiv R^\\top R \\hat \\beta = R^\\top (Q^\\top y)\n",
    "$$\n",
    "- Upper triangular matrices are easy to invert!\n",
    "```\n",
    "[1, 2] [a] = [4]\n",
    "[0, 3] [b]   [5]\n",
    "```\n",
    "- One of many decompositions that can make linear regression easy (after the decomposition is made)."
   ]
  },
  {
   "cell_type": "markdown",
   "metadata": {
    "slideshow": {
     "slide_type": "slide"
    }
   },
   "source": [
    "### Regression by Successive Orthogonalization\n",
    "\n",
    "0. Input $x_0=1, x_1, \\ldots, x_p$ columns of design matrix.\n",
    "1. Init $z_0 = x_0 = 1$\n",
    "2. For $j = 1,\\ldots,p$\n",
    " - Regress $x_j$ on $z_0,\\ldots,z_{j-1}$ giving $$\\hat \\gamma_{j,l} = \\frac{z_l^\\top x_j}{z_l^\\top z_l},$$ $l = 0, \\ldots, j-1$ and $z_j = x_j - \\sum_{k=0}^{j-1} \\hat \\gamma_{j,k} z_k$\n",
    "3. Regress $y$ on the residual $z_p$ to give $\\hat \\beta_p$\n",
    "\n",
    "- Only gives us $\\hat \\beta_p$! Not a great algorithm in its current form.\n",
    "- Algorithm exposes the effect of correlated input $x_j$."
   ]
  },
  {
   "cell_type": "markdown",
   "metadata": {
    "slideshow": {
     "slide_type": "slide"
    }
   },
   "source": [
    "Suppose that $y$ follows the linear model \n",
    "$$\n",
    "y = X \\beta + \\epsilon\n",
    "$$\n",
    "where $\\epsilon_i$ is iid normal$(0,\\sigma^2)$.\n",
    "Then \n",
    "\n",
    "3. Regress $y$ on the residual $z_p$ to give $\\hat \\beta_p$\n",
    "\n",
    "Means $$\n",
    "\\hat \\beta_p = \\frac{y^\\top z_p}{z_p^\\top z_p}\n",
    "$$\n",
    "If $\\|z_p\\|$ is small then this is instable (high variance), when does this happen?\n",
    "$$\n",
    "z_j = x_j - \\sum_{k=0}^{j-1} \\hat \\gamma_{j,k} z_k\n",
    "$$\n",
    "> If $x_p$ is correlated with $x_0,\\ldots,x_{p-1}$ (small residual when regressed onto) then $\\hat \\beta_p$ is instable. "
   ]
  },
  {
   "cell_type": "code",
   "execution_count": 34,
   "metadata": {
    "slideshow": {
     "slide_type": "slide"
    }
   },
   "outputs": [],
   "source": [
    "def sim_corr_lm(n,p,rho,beta,sigma):\n",
    "    \"\"\"\n",
    "    Simulate a design matrix with all columns having marginal correlation rho\n",
    "    \"\"\"\n",
    "    assert p < n and rho < 1 and rho >= 0, \"p must be less than n and rho in [0,1)\"\n",
    "    Sigma = (1 - rho)*np.eye(p) + rho*np.ones((p,p))\n",
    "    X = np.random.multivariate_normal(np.zeros(p),Sigma,n)\n",
    "    y = X @ beta + np.random.normal(0,sigma,n)\n",
    "    return X,y"
   ]
  },
  {
   "cell_type": "code",
   "execution_count": 51,
   "metadata": {
    "slideshow": {
     "slide_type": "slide"
    }
   },
   "outputs": [
    {
     "data": {
      "text/plain": [
       "[<matplotlib.lines.Line2D at 0x7f8b01ffd4a8>]"
      ]
     },
     "execution_count": 51,
     "metadata": {},
     "output_type": "execute_result"
    },
    {
     "data": {
      "image/png": "[encoded data removed]",
      "text/plain": [
       "<Figure size 432x288 with 1 Axes>"
      ]
     },
     "metadata": {
      "needs_background": "light"
     },
     "output_type": "display_data"
    }
   ],
   "source": [
    "n, p, rho = 100, 2, .8\n",
    "beta = np.random.normal(0,1,p)\n",
    "sigma = 1.\n",
    "X, y = sim_corr_lm(n,p,rho,beta,sigma)\n",
    "plt.plot(X[:,0],X[:,1],'.')"
   ]
  },
  {
   "cell_type": "code",
   "execution_count": 52,
   "metadata": {
    "slideshow": {
     "slide_type": "slide"
    }
   },
   "outputs": [],
   "source": [
    "def sample_coef_corr_lm(trials,**kwargs):\n",
    "    \"\"\"\n",
    "    Sample the OLS coefficients for rho correlated input\n",
    "    \"\"\"\n",
    "    beta_sim = []\n",
    "    for t in range(trials):\n",
    "        X,y = sim_corr_lm(**kwargs)\n",
    "        beta_sim += [linear_model.LinearRegression(fit_intercept=False).fit(X,y).coef_]\n",
    "    return np.array(beta_sim)"
   ]
  },
  {
   "cell_type": "code",
   "execution_count": 62,
   "metadata": {
    "slideshow": {
     "slide_type": "slide"
    }
   },
   "outputs": [
    {
     "data": {
      "text/plain": [
       "Text(0, 0.5, 'beta variance')"
      ]
     },
     "execution_count": 62,
     "metadata": {},
     "output_type": "execute_result"
    },
    {
     "data": {
      "image/png": "[encoded data removed]",
      "text/plain": [
       "<Figure size 432x288 with 1 Axes>"
      ]
     },
     "metadata": {
      "needs_background": "light"
     },
     "output_type": "display_data"
    }
   ],
   "source": [
    "## Sample coefficients with different rho and plot variance of beta_1 as rho increases\n",
    "Rhos = [0,.2,.4,.6,.8,.9,.95,.99]\n",
    "coef_vars = [sample_coef_corr_lm(100,n=n,p=p,rho=rho,beta=beta,sigma=sigma)[:,0].var(axis=0) for rho in Rhos]\n",
    "plt.plot(Rhos,coef_vars)\n",
    "plt.xlabel('X correlation')\n",
    "plt.ylabel('beta variance')"
   ]
  },
  {
   "cell_type": "markdown",
   "metadata": {
    "slideshow": {
     "slide_type": "slide"
    }
   },
   "source": [
    "### Singular value decomposition\n",
    "\n",
    "- Recall that QR decomposition was computed to make LinearRegression.fit easier.\n",
    "- There are other decompositions that can also be used: Cholesky and Singular Value.\n",
    "\n",
    "**Singular Value Decomposition** (for $n > p$ and $X^\\top X$ invertible)\n",
    "\n",
    "$$\n",
    "X = U D V^\\top,\n",
    "$$\n",
    "- U is orthonormal ($U^\\top U = I$) $n \\times p$\n",
    "- V is orthonormal $p \\times p$\n",
    "- D is diagonal\n",
    "\n",
    "\n",
    "1. If X is singular, there is a non-zero vector $z$ such that $Xz = 0$, then an eigenvalue is $0$.  This is equivalent to a residual in Succ. Ortho. being zero.\n",
    "2. Computing SVD is more expensive then QR in general."
   ]
  },
  {
   "cell_type": "markdown",
   "metadata": {
    "slideshow": {
     "slide_type": "slide"
    }
   },
   "source": [
    "### Singular Value Decomposition\n",
    "\n",
    "Suppose that we precomputed the SVD,\n",
    "$$\n",
    "X = UDV^\\top.\n",
    "$$\n",
    "Then the Gram matrix is \n",
    "$$\n",
    "X^\\top X = V D U^\\top U D V^\\top = V D^2 V^\\top,\n",
    "$$\n",
    "the Spectral decomposition.\n",
    "\n",
    "In homework 1, you should derive that \n",
    "$$\n",
    "\\hat \\beta = V D^{-1} U^\\top y\n",
    "$$\n",
    "\n",
    "Hint: show that $(X^\\top X)^{-1} = V D^{-2} V^\\top$"
   ]
  },
  {
   "cell_type": "markdown",
   "metadata": {
    "slideshow": {
     "slide_type": "slide"
    }
   },
   "source": [
    "### Singular Value Decomposition\n",
    "\n",
    "The coefficient formula\n",
    "$$\n",
    "\\hat \\beta = V D^{-1} U^\\top y\n",
    "$$\n",
    "means that \n",
    "$$\n",
    "\\hat \\beta = \\sum_{j=0}^p d_j^{-1} (u_j^\\top y) v_j \n",
    "$$\n",
    "which means that \n",
    "\n",
    "> $\\hat \\beta$ is instable (high variance in some direction) if the eigenvalues are very small."
   ]
  },
  {
   "cell_type": "code",
   "execution_count": 105,
   "metadata": {
    "slideshow": {
     "slide_type": "slide"
    }
   },
   "outputs": [
    {
     "name": "stdout",
     "output_type": "stream",
     "text": [
      "(100, 100) (8, 8) (8,)\n"
     ]
    },
    {
     "data": {
      "text/plain": [
       "1.558768684874895e-12"
      ]
     },
     "execution_count": 105,
     "metadata": {},
     "output_type": "execute_result"
    }
   ],
   "source": [
    "## Simulate again\n",
    "n, p, rho = 100, 8, .8\n",
    "beta = np.random.normal(0,1,p)\n",
    "sigma = 1.\n",
    "X, y = sim_corr_lm(n,p,rho,beta,sigma)\n",
    "\n",
    "## SVD\n",
    "U,d,Vt = sc.linalg.svd(X)\n",
    "\n",
    "## Check to make sure that we understand\n",
    "print(U.shape, Vt.shape, d.shape)\n",
    "np.abs(X - U[:,:p] @ np.diag(d) @ Vt).sum()"
   ]
  },
  {
   "cell_type": "code",
   "execution_count": 103,
   "metadata": {
    "slideshow": {
     "slide_type": "slide"
    }
   },
   "outputs": [],
   "source": [
    "## Sample coefficients with different rho and store eigenvalues and beta variances\n",
    "Rhos = [0,.2,.4,.6,.8,.9,.95,.99]\n",
    "res_mat = []\n",
    "for rho in Rhos:\n",
    "    X, y = sim_corr_lm(n,p,rho,beta,sigma)\n",
    "    U,d,Vt = sc.linalg.svd(X)\n",
    "    res_mat += [d]"
   ]
  },
  {
   "cell_type": "code",
   "execution_count": 104,
   "metadata": {
    "slideshow": {
     "slide_type": "slide"
    }
   },
   "outputs": [
    {
     "data": {
      "image/png": "[encoded data removed]",
      "text/plain": [
       "<Figure size 432x288 with 1 Axes>"
      ]
     },
     "metadata": {
      "needs_background": "light"
     },
     "output_type": "display_data"
    }
   ],
   "source": [
    "## plot the ordered eigenvalues for each rho\n",
    "colors = plt.cm.jet(np.linspace(0,1,len(Rhos)))\n",
    "for col, rho, res_vec in zip(colors,Rhos,res_mat):\n",
    "    plt.plot(res_vec,label=str(rho),c=col)\n",
    "plt.legend()\n",
    "_ = plt.xlabel('eigenvalue index')"
   ]
  },
  {
   "cell_type": "markdown",
   "metadata": {
    "slideshow": {
     "slide_type": "slide"
    }
   },
   "source": [
    "### Ridge regression\n",
    "\n",
    "We can summarize the above statements as\n",
    "> If X is nearly singular then $\\hat \\beta$ is instable"
   ]
  },
  {
   "cell_type": "markdown",
   "metadata": {
    "slideshow": {
     "slide_type": "fragment"
    }
   },
   "source": [
    "One solution is *Ridge regression*, $\\hat \\beta$ that solves\n",
    "$$\n",
    "\\min. \\sum_{i=1}^n (y_i - x_i^\\top \\beta)^2 + \\lambda \\sum_{j=1}^p \\beta_j^2.\n",
    "$$"
   ]
  },
  {
   "cell_type": "markdown",
   "metadata": {
    "slideshow": {
     "slide_type": "fragment"
    }
   },
   "source": [
    "- Ridge regularization will \"pull\" $\\beta$ towards 0.\n",
    "- $\\lambda$ is a tuning parameter and the second term is ridge penalty\n",
    "- centered $X$ ($x_{i,j} \\gets x_{i,j} - \\bar x_j$ for all but intercept) then $\\hat \\beta_0 = \\bar y$, can then remove the intercept from $y$ and perform ridge with $\\beta$ without intercept\n",
    "- normalize $X$ ($x_{i,j} \\gets x_{i,j} / \\| x_j \\|$) makes all penalty terms on same scale"
   ]
  },
  {
   "cell_type": "markdown",
   "metadata": {
    "slideshow": {
     "slide_type": "slide"
    }
   },
   "source": [
    "### Ridge regression\n",
    "\n",
    "Ridge objective (with no intercept)\n",
    "$$\n",
    "(y - X \\beta)^\\top (y - X \\beta) + \\lambda \\beta^\\top \\beta\n",
    "$$\n",
    "is proportional to \n",
    "$$\n",
    "- 2 y^\\top X \\beta + \\beta^\\top (X^\\top X) \\beta + \\lambda \\beta^\\top \\beta = -2 (X^\\top y)^\\top \\beta + \\beta^\\top (X^\\top X + \\lambda I) \\beta.\n",
    "$$\n",
    "The ridge solution satisfies some new normal equations,\n",
    "$$\n",
    "(X^\\top X + \\lambda I) \\hat \\beta = X^\\top y.\n",
    "$$\n",
    "> Ridge regularization always has a solution because $(X^\\top X + \\lambda I)^{-1}$ exists!"
   ]
  },
  {
   "cell_type": "markdown",
   "metadata": {
    "slideshow": {
     "slide_type": "slide"
    }
   },
   "source": [
    "### Ridge regression and SVD\n",
    "\n",
    "If $X = U D V^\\top$ then \n",
    "$$\n",
    "X^\\top X + \\lambda I = V D^2 V^\\top + \\lambda I = V (D^2 + \\lambda I) V^\\top \n",
    "$$\n",
    "because when $p < n$ then $V V^\\top = I$.\n",
    "So Ridge solution can be shown to be (exercise)\n",
    "$$\n",
    "\\hat \\beta = V (D^2 + \\lambda I)^{-1} D U^\\top y \n",
    "$$\n",
    "compare to OLS\n",
    "$$\n",
    "\\hat \\beta = V D^{-1} U^\\top y \n",
    "$$\n",
    "modifies the eigenvalues to be \n",
    "$$\n",
    "d_j \\gets \\frac{d_j^2 + \\lambda}{d_j}\n",
    "$$\n",
    "but but but Ridge regression is biased!"
   ]
  },
  {
   "cell_type": "markdown",
   "metadata": {
    "slideshow": {
     "slide_type": "slide"
    }
   },
   "source": [
    "<img src=\"ridge_bias.PNG\" width=70%>"
   ]
  },
  {
   "cell_type": "markdown",
   "metadata": {
    "slideshow": {
     "slide_type": "slide"
    }
   },
   "source": [
    "### Subset selection\n",
    "\n",
    "Two motivations for selecting variables\n",
    "1. Fewer variabbles can lead to lower risk\n",
    "2. We want to discover a subset of variables with large effects"
   ]
  },
  {
   "cell_type": "markdown",
   "metadata": {
    "slideshow": {
     "slide_type": "fragment"
    }
   },
   "source": [
    "A model for *sparsity*\n",
    "$$\n",
    "y_i = x_i^\\top \\beta + \\epsilon_i\n",
    "$$\n",
    "where for some of the $j = 1,\\ldots,p$, $\\beta_j = 0$.\n",
    "\n",
    "**Def** Support of $\\beta$ is \n",
    "$$\n",
    "\\textrm{supp}(\\beta) = \\{j = 1,\\ldots,p : \\beta_j \\ne 0 \\}.\n",
    "$$\n",
    "then goal is to find supp$(\\beta)$ or $\\beta$ such that $|$supp$(\\beta)| \\le s$."
   ]
  },
  {
   "cell_type": "markdown",
   "metadata": {
    "slideshow": {
     "slide_type": "slide"
    }
   },
   "source": [
    "### Computational challenges of subset selection\n",
    "\n",
    "*Combinatorial ($L_0$) subset selection:* Select $S \\subseteq \\{1,\\ldots, p\\}$ s.t. $|S| \\le s$ and minimizes\n",
    "$$\n",
    "\\sum_{i=1}^n \\left(y_i - \\sum_{j \\in S} x_{i,j} \\beta_j \\right)^2\n",
    "$$\n",
    "\n",
    "This optimization is NP hard in general!"
   ]
  },
  {
   "cell_type": "markdown",
   "metadata": {
    "slideshow": {
     "slide_type": "fragment"
    }
   },
   "source": [
    "**Def** $L_0$ norm (not a norm), is $\\|\\beta\\|_0 = {\\rm supp}(\\beta)$.\n",
    "\n",
    "Then subset selection is\n",
    "$$\n",
    "\\min \\| y - X \\beta \\|^2 \\textrm{ s.t. } \\beta \\in \\mathbb R^p, \\| \\beta \\|_0 \\le s\n",
    "$$"
   ]
  },
  {
   "cell_type": "markdown",
   "metadata": {
    "slideshow": {
     "slide_type": "slide"
    }
   },
   "source": [
    "### Greedy methods\n",
    "\n",
    "Basic idea: at each step, choose an action that improves empirical risk\n",
    "\n",
    "#### Forward Stepwise\n",
    "- Input X standardized, $x_0 = 1$, y\n",
    "- Let $S_0 = {0}$\n",
    "- For $s = 1,\\ldots, p$:\n",
    " - For $j \\notin S$:\n",
    "  $$ R_j = \\min \\| y - X \\beta \\|^2 \\textrm{ s.t. supp}(\\beta) = S_{s-1} \\cup \\{ j \\} $$\n",
    " - Add minimizer of $R_j$ to $S_{s-1}$ update $S_s$   \n",
    "\n",
    "- Intermediate OLS steps can be slow\n",
    "- Correlations can cause issues: add a variable early on only because it is correlated with significant vars, never lose it"
   ]
  }
 ],
 "metadata": {
  "celltoolbar": "Slideshow",
  "kernelspec": {
   "display_name": "Python 3",
   "language": "python",
   "name": "python3"
  },
  "language_info": {
   "codemirror_mode": {
    "name": "ipython",
    "version": 3
   },
   "file_extension": ".py",
   "mimetype": "text/x-python",
   "name": "python",
   "nbconvert_exporter": "python",
   "pygments_lexer": "ipython3",
   "version": "3.6.5"
  }
 },
 "nbformat": 4,
 "nbformat_minor": 2
}
