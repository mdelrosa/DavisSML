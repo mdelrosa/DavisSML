{
 "cells": [
  {
   "cell_type": "markdown",
   "metadata": {
    "slideshow": {
     "slide_type": "slide"
    }
   },
   "source": [
    "# Model Selection and Bias-Variance Tradeoff\n",
    "\n",
    "## StatML: Lecture 2\n",
    "\n",
    "## Prof. James Sharpnack\n"
   ]
  },
  {
   "cell_type": "markdown",
   "metadata": {
    "slideshow": {
     "slide_type": "slide"
    }
   },
   "source": [
    "### LinearRegression.fit\n",
    "\n",
    "Fit in OLS solves the following, on training set\n",
    "$$\n",
    "\\hat \\beta = (X^\\top X)^{-1} X^\\top y\n",
    "$$\n",
    "where $X,y$ are $n \\times p$ and $n$ arrays.\n",
    "\n",
    "1. Matrix multiply\n",
    "2. Linear solve:\n",
    "$$\n",
    "(X^\\top X) \\hat \\beta = X^\\top y\n",
    "$$"
   ]
  },
  {
   "cell_type": "markdown",
   "metadata": {
    "slideshow": {
     "slide_type": "slide"
    }
   },
   "source": [
    "### O notation\n",
    "\n",
    "- Sequence $A_n = O(B_n)$ if there is an M > 0 such that $A_n < M B_n$ for $n$ large enough.\n",
    "- An algorithm takes $O(A_n)$ time if the number of basic operations (floating point arithmetic) to run is $O(A_n)$. \n",
    "\n",
    "The for loop to compute\n",
    "$$\\sum_{i=1}^n i$$\n",
    "takes $O(n)$ time while computing\n",
    "$$n (n + 1)/2$$\n",
    "takes $O(1)$ time."
   ]
  },
  {
   "cell_type": "markdown",
   "metadata": {
    "slideshow": {
     "slide_type": "slide"
    }
   },
   "source": [
    "### LinearRegression.fit\n",
    "\n",
    "1. Matrix mult complexity\n",
    "$$\n",
    "(X^\\top X)_{j,k} = \\sum_{i=1}^n X_{i,j} X_{i,k} \n",
    "$$\n",
    "sum is $O(n)$, full complexity is $O(p^2 n)$ time.\n",
    "\n",
    "1. Matrix solve - Cholesky decomposition - computational complexity O(p^3) time\n",
    "1. Total complexity of fit: $O(n p^2 + p^3)$.\n"
   ]
  },
  {
   "cell_type": "markdown",
   "metadata": {
    "slideshow": {
     "slide_type": "slide"
    }
   },
   "source": [
    "### LinearRegression.predict\n",
    "\n",
    "Given $x_{n+1}$,\n",
    "$$\n",
    "\\hat f(x_{n+1}) = x_{n+1}^\\top \\hat \\beta = \\hat \\beta_0 + \\sum_{j=1}^n \\hat \\beta_j x_{n+1,j}.\n",
    "$$\n",
    "is $O(p)$ time.\n",
    "\n",
    "#### Conclusions\n",
    "1. Predict is fast: $O(p)$\n",
    "2. Fit is slow: $O(np^2)$ (if $n > p$)\n",
    "3. $X^\\top X$ needs to be invertible (impossible if $p > n$!)\n",
    "4. $\\hat f$ is linear (restrictive)"
   ]
  },
  {
   "cell_type": "code",
   "execution_count": 119,
   "metadata": {
    "slideshow": {
     "slide_type": "slide"
    }
   },
   "outputs": [
    {
     "data": {
      "text/plain": [
       "[<matplotlib.lines.Line2D at 0x7f661002f3c8>]"
      ]
     },
     "execution_count": 119,
     "metadata": {},
     "output_type": "execute_result"
    },
    {
     "data": {
      "image/png": "[encoded data removed]",
      "text/plain": [
       "<Figure size 432x288 with 1 Axes>"
      ]
     },
     "metadata": {
      "needs_background": "light"
     },
     "output_type": "display_data"
    }
   ],
   "source": [
    "## Nonlinear example\n",
    "\n",
    "x = np.arange(.05,1,.01)\n",
    "y = np.sin(1/x) + np.random.normal(0,.25,len(x))\n",
    "plt.plot(x,y,'.')"
   ]
  },
  {
   "cell_type": "markdown",
   "metadata": {
    "slideshow": {
     "slide_type": "slide"
    }
   },
   "source": [
    "### K nearest neighbors\n",
    "\n",
    "Given a metric (d), the K-nearest neighbors of $x$ in $x_1,\\ldots,x_n$ is $x_{j_1},\\ldots,x_{j_K}$ such that\n",
    "$$\n",
    "d(x,x_{j_1}) \\le d(x,x_{j_2}) \\le \\ldots\n",
    "$$\n",
    "- KNN methods fit a local model for predicting $x$ using the KNNs\n",
    "- Intuition is that $Y|X=x$ is approximately iid with $Y|X=x_{j_k}$\n",
    "- For regression,\n",
    "$$\n",
    "\\hat f_K(x) = \\frac 1K \\sum_{k=1}^K y_{j_k}.\n",
    "$$"
   ]
  },
  {
   "cell_type": "code",
   "execution_count": 130,
   "metadata": {
    "slideshow": {
     "slide_type": "slide"
    }
   },
   "outputs": [],
   "source": [
    "## Fit K neighbors regression\n",
    "knn = neighbors.KNeighborsRegressor(n_neighbors=5)\n",
    "X = x.reshape(-1,1)\n",
    "knn.fit(X,y)\n",
    "y_pred = knn.predict(X)"
   ]
  },
  {
   "cell_type": "code",
   "execution_count": 131,
   "metadata": {
    "slideshow": {
     "slide_type": "slide"
    }
   },
   "outputs": [
    {
     "data": {
      "text/plain": [
       "[<matplotlib.lines.Line2D at 0x7f660ff6e550>]"
      ]
     },
     "execution_count": 131,
     "metadata": {},
     "output_type": "execute_result"
    },
    {
     "data": {
      "image/png": "[encoded data removed]",
      "text/plain": [
       "<Figure size 432x288 with 1 Axes>"
      ]
     },
     "metadata": {
      "needs_background": "light"
     },
     "output_type": "display_data"
    }
   ],
   "source": [
    "## 5-nearest neighbors regression\n",
    "plt.plot(x,y,'.')\n",
    "plt.plot(x,y_pred)"
   ]
  },
  {
   "cell_type": "markdown",
   "metadata": {
    "slideshow": {
     "slide_type": "slide"
    }
   },
   "source": [
    "### K nearest neighbors.fit\n",
    "\n",
    "- Naive implementation, save the data\n",
    "- Better is sort or arrange the data\n",
    " - in 1D sort makes nearest neighbor lookup fast!\n",
    " - sort takes $O(n \\log n)$ time\n",
    " - in higher dimensions there is specialized data structions (KDTree)"
   ]
  },
  {
   "cell_type": "markdown",
   "metadata": {
    "slideshow": {
     "slide_type": "slide"
    }
   },
   "source": [
    "### K nearest neighbors.predict\n",
    "\n",
    "- For each new point find the KNNs\n",
    " - if unsorted then this can take $O(n)$ time for each new point - compare to $O(p)$ for OLS\n",
    " - if sorted then this can take $O(\\log n)$ time (different for $>1$D)\n",
    "- Take average of $K$ neighbors is fast"
   ]
  },
  {
   "cell_type": "markdown",
   "metadata": {
    "slideshow": {
     "slide_type": "slide"
    }
   },
   "source": [
    "### Tuning parameter\n",
    "- K is a tuning parameter\n",
    "- Know how to evaluate - use test error\n",
    "- Treat each K as resulting in a different model"
   ]
  },
  {
   "cell_type": "markdown",
   "metadata": {
    "slideshow": {
     "slide_type": "slide"
    }
   },
   "source": [
    "# Stop"
   ]
  },
  {
   "cell_type": "code",
   "execution_count": 39,
   "metadata": {
    "slideshow": {
     "slide_type": "slide"
    }
   },
   "outputs": [],
   "source": [
    "import pandas as pd\n",
    "import numpy as np\n",
    "from sklearn import model_selection, linear_model, neighbors, preprocessing, metrics\n",
    "import matplotlib.pyplot as plt\n",
    "import seaborn as sns"
   ]
  },
  {
   "cell_type": "code",
   "execution_count": 80,
   "metadata": {
    "slideshow": {
     "slide_type": "slide"
    }
   },
   "outputs": [],
   "source": [
    "## Reading in data - using pandas!\n",
    "datapath = \"../../data/\"\n",
    "filename = datapath + 'winequality-red.csv'\n",
    "wine = pd.read_csv(filename,delimiter=';')"
   ]
  },
  {
   "cell_type": "code",
   "execution_count": 81,
   "metadata": {
    "slideshow": {
     "slide_type": "slide"
    }
   },
   "outputs": [
    {
     "data": {
      "text/html": [
       "<div>\n",
       "<style scoped>\n",
       "    .dataframe tbody tr th:only-of-type {\n",
       "        vertical-align: middle;\n",
       "    }\n",
       "\n",
       "    .dataframe tbody tr th {\n",
       "        vertical-align: top;\n",
       "    }\n",
       "\n",
       "    .dataframe thead th {\n",
       "        text-align: right;\n",
       "    }\n",
       "</style>\n",
       "<table border=\"1\" class=\"dataframe\">\n",
       "  <thead>\n",
       "    <tr style=\"text-align: right;\">\n",
       "      <th></th>\n",
       "      <th>fixed acidity</th>\n",
       "      <th>volatile acidity</th>\n",
       "      <th>citric acid</th>\n",
       "      <th>residual sugar</th>\n",
       "      <th>chlorides</th>\n",
       "      <th>free sulfur dioxide</th>\n",
       "      <th>total sulfur dioxide</th>\n",
       "      <th>density</th>\n",
       "      <th>pH</th>\n",
       "      <th>sulphates</th>\n",
       "      <th>alcohol</th>\n",
       "      <th>quality</th>\n",
       "    </tr>\n",
       "  </thead>\n",
       "  <tbody>\n",
       "    <tr>\n",
       "      <th>0</th>\n",
       "      <td>7.4</td>\n",
       "      <td>0.70</td>\n",
       "      <td>0.00</td>\n",
       "      <td>1.9</td>\n",
       "      <td>0.076</td>\n",
       "      <td>11.0</td>\n",
       "      <td>34.0</td>\n",
       "      <td>0.9978</td>\n",
       "      <td>3.51</td>\n",
       "      <td>0.56</td>\n",
       "      <td>9.4</td>\n",
       "      <td>5</td>\n",
       "    </tr>\n",
       "    <tr>\n",
       "      <th>1</th>\n",
       "      <td>7.8</td>\n",
       "      <td>0.88</td>\n",
       "      <td>0.00</td>\n",
       "      <td>2.6</td>\n",
       "      <td>0.098</td>\n",
       "      <td>25.0</td>\n",
       "      <td>67.0</td>\n",
       "      <td>0.9968</td>\n",
       "      <td>3.20</td>\n",
       "      <td>0.68</td>\n",
       "      <td>9.8</td>\n",
       "      <td>5</td>\n",
       "    </tr>\n",
       "    <tr>\n",
       "      <th>2</th>\n",
       "      <td>7.8</td>\n",
       "      <td>0.76</td>\n",
       "      <td>0.04</td>\n",
       "      <td>2.3</td>\n",
       "      <td>0.092</td>\n",
       "      <td>15.0</td>\n",
       "      <td>54.0</td>\n",
       "      <td>0.9970</td>\n",
       "      <td>3.26</td>\n",
       "      <td>0.65</td>\n",
       "      <td>9.8</td>\n",
       "      <td>5</td>\n",
       "    </tr>\n",
       "    <tr>\n",
       "      <th>3</th>\n",
       "      <td>11.2</td>\n",
       "      <td>0.28</td>\n",
       "      <td>0.56</td>\n",
       "      <td>1.9</td>\n",
       "      <td>0.075</td>\n",
       "      <td>17.0</td>\n",
       "      <td>60.0</td>\n",
       "      <td>0.9980</td>\n",
       "      <td>3.16</td>\n",
       "      <td>0.58</td>\n",
       "      <td>9.8</td>\n",
       "      <td>6</td>\n",
       "    </tr>\n",
       "    <tr>\n",
       "      <th>4</th>\n",
       "      <td>7.4</td>\n",
       "      <td>0.70</td>\n",
       "      <td>0.00</td>\n",
       "      <td>1.9</td>\n",
       "      <td>0.076</td>\n",
       "      <td>11.0</td>\n",
       "      <td>34.0</td>\n",
       "      <td>0.9978</td>\n",
       "      <td>3.51</td>\n",
       "      <td>0.56</td>\n",
       "      <td>9.4</td>\n",
       "      <td>5</td>\n",
       "    </tr>\n",
       "  </tbody>\n",
       "</table>\n",
       "</div>"
      ],
      "text/plain": [
       "   fixed acidity  volatile acidity  citric acid  residual sugar  chlorides  \\\n",
       "0            7.4              0.70         0.00             1.9      0.076   \n",
       "1            7.8              0.88         0.00             2.6      0.098   \n",
       "2            7.8              0.76         0.04             2.3      0.092   \n",
       "3           11.2              0.28         0.56             1.9      0.075   \n",
       "4            7.4              0.70         0.00             1.9      0.076   \n",
       "\n",
       "   free sulfur dioxide  total sulfur dioxide  density    pH  sulphates  \\\n",
       "0                 11.0                  34.0   0.9978  3.51       0.56   \n",
       "1                 25.0                  67.0   0.9968  3.20       0.68   \n",
       "2                 15.0                  54.0   0.9970  3.26       0.65   \n",
       "3                 17.0                  60.0   0.9980  3.16       0.58   \n",
       "4                 11.0                  34.0   0.9978  3.51       0.56   \n",
       "\n",
       "   alcohol  quality  \n",
       "0      9.4        5  \n",
       "1      9.8        5  \n",
       "2      9.8        5  \n",
       "3      9.8        6  \n",
       "4      9.4        5  "
      ]
     },
     "execution_count": 81,
     "metadata": {},
     "output_type": "execute_result"
    }
   ],
   "source": [
    "wine.head()"
   ]
  },
  {
   "cell_type": "code",
   "execution_count": 82,
   "metadata": {
    "slideshow": {
     "slide_type": "slide"
    }
   },
   "outputs": [
    {
     "data": {
      "text/html": [
       "<div>\n",
       "<style scoped>\n",
       "    .dataframe tbody tr th:only-of-type {\n",
       "        vertical-align: middle;\n",
       "    }\n",
       "\n",
       "    .dataframe tbody tr th {\n",
       "        vertical-align: top;\n",
       "    }\n",
       "\n",
       "    .dataframe thead th {\n",
       "        text-align: right;\n",
       "    }\n",
       "</style>\n",
       "<table border=\"1\" class=\"dataframe\">\n",
       "  <thead>\n",
       "    <tr style=\"text-align: right;\">\n",
       "      <th></th>\n",
       "      <th>fixed acidity</th>\n",
       "      <th>volatile acidity</th>\n",
       "      <th>citric acid</th>\n",
       "      <th>residual sugar</th>\n",
       "      <th>chlorides</th>\n",
       "      <th>free sulfur dioxide</th>\n",
       "      <th>total sulfur dioxide</th>\n",
       "      <th>density</th>\n",
       "      <th>pH</th>\n",
       "      <th>sulphates</th>\n",
       "      <th>alcohol</th>\n",
       "      <th>quality</th>\n",
       "    </tr>\n",
       "  </thead>\n",
       "  <tbody>\n",
       "    <tr>\n",
       "      <th>count</th>\n",
       "      <td>1599.000000</td>\n",
       "      <td>1599.000000</td>\n",
       "      <td>1599.000000</td>\n",
       "      <td>1599.000000</td>\n",
       "      <td>1599.000000</td>\n",
       "      <td>1599.000000</td>\n",
       "      <td>1599.000000</td>\n",
       "      <td>1599.000000</td>\n",
       "      <td>1599.000000</td>\n",
       "      <td>1599.000000</td>\n",
       "      <td>1599.000000</td>\n",
       "      <td>1599.000000</td>\n",
       "    </tr>\n",
       "    <tr>\n",
       "      <th>mean</th>\n",
       "      <td>8.319637</td>\n",
       "      <td>0.527821</td>\n",
       "      <td>0.270976</td>\n",
       "      <td>2.538806</td>\n",
       "      <td>0.087467</td>\n",
       "      <td>15.874922</td>\n",
       "      <td>46.467792</td>\n",
       "      <td>0.996747</td>\n",
       "      <td>3.311113</td>\n",
       "      <td>0.658149</td>\n",
       "      <td>10.422983</td>\n",
       "      <td>5.636023</td>\n",
       "    </tr>\n",
       "    <tr>\n",
       "      <th>std</th>\n",
       "      <td>1.741096</td>\n",
       "      <td>0.179060</td>\n",
       "      <td>0.194801</td>\n",
       "      <td>1.409928</td>\n",
       "      <td>0.047065</td>\n",
       "      <td>10.460157</td>\n",
       "      <td>32.895324</td>\n",
       "      <td>0.001887</td>\n",
       "      <td>0.154386</td>\n",
       "      <td>0.169507</td>\n",
       "      <td>1.065668</td>\n",
       "      <td>0.807569</td>\n",
       "    </tr>\n",
       "    <tr>\n",
       "      <th>min</th>\n",
       "      <td>4.600000</td>\n",
       "      <td>0.120000</td>\n",
       "      <td>0.000000</td>\n",
       "      <td>0.900000</td>\n",
       "      <td>0.012000</td>\n",
       "      <td>1.000000</td>\n",
       "      <td>6.000000</td>\n",
       "      <td>0.990070</td>\n",
       "      <td>2.740000</td>\n",
       "      <td>0.330000</td>\n",
       "      <td>8.400000</td>\n",
       "      <td>3.000000</td>\n",
       "    </tr>\n",
       "    <tr>\n",
       "      <th>25%</th>\n",
       "      <td>7.100000</td>\n",
       "      <td>0.390000</td>\n",
       "      <td>0.090000</td>\n",
       "      <td>1.900000</td>\n",
       "      <td>0.070000</td>\n",
       "      <td>7.000000</td>\n",
       "      <td>22.000000</td>\n",
       "      <td>0.995600</td>\n",
       "      <td>3.210000</td>\n",
       "      <td>0.550000</td>\n",
       "      <td>9.500000</td>\n",
       "      <td>5.000000</td>\n",
       "    </tr>\n",
       "    <tr>\n",
       "      <th>50%</th>\n",
       "      <td>7.900000</td>\n",
       "      <td>0.520000</td>\n",
       "      <td>0.260000</td>\n",
       "      <td>2.200000</td>\n",
       "      <td>0.079000</td>\n",
       "      <td>14.000000</td>\n",
       "      <td>38.000000</td>\n",
       "      <td>0.996750</td>\n",
       "      <td>3.310000</td>\n",
       "      <td>0.620000</td>\n",
       "      <td>10.200000</td>\n",
       "      <td>6.000000</td>\n",
       "    </tr>\n",
       "    <tr>\n",
       "      <th>75%</th>\n",
       "      <td>9.200000</td>\n",
       "      <td>0.640000</td>\n",
       "      <td>0.420000</td>\n",
       "      <td>2.600000</td>\n",
       "      <td>0.090000</td>\n",
       "      <td>21.000000</td>\n",
       "      <td>62.000000</td>\n",
       "      <td>0.997835</td>\n",
       "      <td>3.400000</td>\n",
       "      <td>0.730000</td>\n",
       "      <td>11.100000</td>\n",
       "      <td>6.000000</td>\n",
       "    </tr>\n",
       "    <tr>\n",
       "      <th>max</th>\n",
       "      <td>15.900000</td>\n",
       "      <td>1.580000</td>\n",
       "      <td>1.000000</td>\n",
       "      <td>15.500000</td>\n",
       "      <td>0.611000</td>\n",
       "      <td>72.000000</td>\n",
       "      <td>289.000000</td>\n",
       "      <td>1.003690</td>\n",
       "      <td>4.010000</td>\n",
       "      <td>2.000000</td>\n",
       "      <td>14.900000</td>\n",
       "      <td>8.000000</td>\n",
       "    </tr>\n",
       "  </tbody>\n",
       "</table>\n",
       "</div>"
      ],
      "text/plain": [
       "       fixed acidity  volatile acidity  citric acid  residual sugar  \\\n",
       "count    1599.000000       1599.000000  1599.000000     1599.000000   \n",
       "mean        8.319637          0.527821     0.270976        2.538806   \n",
       "std         1.741096          0.179060     0.194801        1.409928   \n",
       "min         4.600000          0.120000     0.000000        0.900000   \n",
       "25%         7.100000          0.390000     0.090000        1.900000   \n",
       "50%         7.900000          0.520000     0.260000        2.200000   \n",
       "75%         9.200000          0.640000     0.420000        2.600000   \n",
       "max        15.900000          1.580000     1.000000       15.500000   \n",
       "\n",
       "         chlorides  free sulfur dioxide  total sulfur dioxide      density  \\\n",
       "count  1599.000000          1599.000000           1599.000000  1599.000000   \n",
       "mean      0.087467            15.874922             46.467792     0.996747   \n",
       "std       0.047065            10.460157             32.895324     0.001887   \n",
       "min       0.012000             1.000000              6.000000     0.990070   \n",
       "25%       0.070000             7.000000             22.000000     0.995600   \n",
       "50%       0.079000            14.000000             38.000000     0.996750   \n",
       "75%       0.090000            21.000000             62.000000     0.997835   \n",
       "max       0.611000            72.000000            289.000000     1.003690   \n",
       "\n",
       "                pH    sulphates      alcohol      quality  \n",
       "count  1599.000000  1599.000000  1599.000000  1599.000000  \n",
       "mean      3.311113     0.658149    10.422983     5.636023  \n",
       "std       0.154386     0.169507     1.065668     0.807569  \n",
       "min       2.740000     0.330000     8.400000     3.000000  \n",
       "25%       3.210000     0.550000     9.500000     5.000000  \n",
       "50%       3.310000     0.620000    10.200000     6.000000  \n",
       "75%       3.400000     0.730000    11.100000     6.000000  \n",
       "max       4.010000     2.000000    14.900000     8.000000  "
      ]
     },
     "execution_count": 82,
     "metadata": {},
     "output_type": "execute_result"
    }
   ],
   "source": [
    "wine.describe()"
   ]
  },
  {
   "cell_type": "code",
   "execution_count": 151,
   "metadata": {
    "slideshow": {
     "slide_type": "slide"
    }
   },
   "outputs": [],
   "source": [
    "## Preparing training/test data\n",
    "\n",
    "y = wine['quality'].values\n",
    "X = wine.drop(['quality'],axis=1).values\n",
    "test_size = .33\n",
    "X_tr, X_te, y_tr, y_te = model_selection.train_test_split(X,y,test_size = .33)"
   ]
  },
  {
   "cell_type": "code",
   "execution_count": 152,
   "metadata": {
    "slideshow": {
     "slide_type": "fragment"
    }
   },
   "outputs": [
    {
     "data": {
      "text/plain": [
       "((1071, 11), (528, 11))"
      ]
     },
     "execution_count": 152,
     "metadata": {},
     "output_type": "execute_result"
    }
   ],
   "source": [
    "X_tr.shape, X_te.shape # checking"
   ]
  },
  {
   "cell_type": "markdown",
   "metadata": {
    "slideshow": {
     "slide_type": "slide"
    }
   },
   "source": [
    "### Exercise 2.1\n",
    "\n",
    "1. Look at [the documentation for StandardScalar](https://scikit-learn.org/stable/modules/generated/sklearn.preprocessing.StandardScaler.html) notice that there is the `fit` method to be applied to training data and the `transform` method for the test data.  Fit and transform an instance on the wine data training Xs.\n",
    "2. Fit the following models on the training data: LinearRegression with intercept, KNN for a large range of K.  You can store the trained models in a list.\n",
    "3. Create a custom model class (based on the KNeighborsRegressor) that selects columns 1,10 from the dataset and fits KNN only on this subset of columns.  Give it a `fit` and `predict` method that has the same input and output as that of KNeighborsRegressor.  Fit this as well for a large range of K.\n",
    "4. Use each model to predict the test data and calculate the mean square error.  Plot this as a function of K for each KNN method and compare to linear regression."
   ]
  },
  {
   "cell_type": "code",
   "execution_count": null,
   "metadata": {
    "slideshow": {
     "slide_type": "slide"
    }
   },
   "outputs": [],
   "source": [
    "## Answer to 2.1\n",
    "\n",
    "## TRAINING - DON'T TOUCH Y_te (better not to touch X_te)\n",
    "\n",
    "## Preprocessing\n",
    "\n",
    "stand = preprocessing.StandardScaler()\n",
    "stand.fit(X_tr)\n",
    "X_tr = stand.transform(X_tr)"
   ]
  },
  {
   "cell_type": "code",
   "execution_count": 154,
   "metadata": {
    "slideshow": {
     "slide_type": "slide"
    }
   },
   "outputs": [],
   "source": [
    "## Fitting OLS and KNN\n",
    "\n",
    "lr = linear_model.LinearRegression()\n",
    "lr.fit(X_tr,y_tr)\n",
    "\n",
    "knns = []\n",
    "neighbors_K = np.arange(1,241,2)\n",
    "M = len(neighbors_K)\n",
    "for k in neighbors_K:\n",
    "    knn = neighbors.KNeighborsRegressor(n_neighbors=k)\n",
    "    knn.fit(X_tr,y_tr)\n",
    "    knns.append(knn)\n",
    "    \n",
    "models = [lr] + knns"
   ]
  },
  {
   "cell_type": "code",
   "execution_count": 155,
   "metadata": {
    "slideshow": {
     "slide_type": "slide"
    }
   },
   "outputs": [],
   "source": [
    "SEL_COLS = [1,10] # acid volatility, alcohol\n",
    "\n",
    "class WinePredictor:\n",
    "    \"\"\"\n",
    "    Custom predictor that selects vars 1 and 10 and performs knn\n",
    "    \"\"\"\n",
    "    def __init__(self,n_neighbors=5):\n",
    "        self.n_neighbors = n_neighbors\n",
    "        self.knn = neighbors.KNeighborsRegressor(n_neighbors=n_neighbors)\n",
    "        \n",
    "    def fit(self, X_tr, y_tr):\n",
    "        X_sub = X_tr[:,SEL_COLS]\n",
    "        self.knn.fit(X_sub,y_tr)\n",
    "        \n",
    "    def predict(self,X_te):\n",
    "        X_sub = X_te[:,SEL_COLS]\n",
    "        return self.knn.predict(X_sub)\n",
    "    \n",
    "## Can do this more cleanly with Class inheritance (maybe a future lecture)"
   ]
  },
  {
   "cell_type": "code",
   "execution_count": 156,
   "metadata": {
    "slideshow": {
     "slide_type": "slide"
    }
   },
   "outputs": [],
   "source": [
    "## Fitting wine predictor\n",
    "\n",
    "wine_knns = []\n",
    "\n",
    "for k in neighbors_K:\n",
    "    knn = WinePredictor(n_neighbors=k)\n",
    "    knn.fit(X_tr,y_tr)\n",
    "    wine_knns.append(knn)\n",
    "    \n",
    "models = models + wine_knns"
   ]
  },
  {
   "cell_type": "code",
   "execution_count": 157,
   "metadata": {
    "slideshow": {
     "slide_type": "slide"
    }
   },
   "outputs": [],
   "source": [
    "## TESTING - DON'T TOUCH MODELS\n",
    "\n",
    "## transformations\n",
    "\n",
    "X_te = stand.transform(X_te)\n",
    "\n",
    "## prediction\n",
    "\n",
    "MSEs = []\n",
    "for m in models:\n",
    "    y_pred = m.predict(X_te)\n",
    "    MSEs.append(metrics.mean_squared_error(y_te,y_pred))"
   ]
  },
  {
   "cell_type": "code",
   "execution_count": 158,
   "metadata": {
    "slideshow": {
     "slide_type": "slide"
    }
   },
   "outputs": [
    {
     "data": {
      "text/plain": [
       "<matplotlib.legend.Legend at 0x7f660fc75780>"
      ]
     },
     "execution_count": 158,
     "metadata": {},
     "output_type": "execute_result"
    },
    {
     "data": {
      "image/png": "[encoded data removed]",
      "text/plain": [
       "<Figure size 432x288 with 1 Axes>"
      ]
     },
     "metadata": {
      "needs_background": "light"
     },
     "output_type": "display_data"
    }
   ],
   "source": [
    "plt.plot(neighbors_K,MSEs[1:M+1],label='knn')\n",
    "plt.plot(neighbors_K,MSEs[M+1:],label='wine pred')\n",
    "plt.hlines(MSEs[0],0,neighbors_K[-1],label='OLS')\n",
    "plt.xlabel('k (neighbors)')\n",
    "plt.ylabel('MSE')\n",
    "plt.legend()"
   ]
  },
  {
   "cell_type": "markdown",
   "metadata": {
    "slideshow": {
     "slide_type": "slide"
    }
   },
   "source": [
    "# Stop"
   ]
  },
  {
   "cell_type": "markdown",
   "metadata": {
    "slideshow": {
     "slide_type": "slide"
    }
   },
   "source": [
    "### Bias-Variance tradeoff for square error loss\n",
    "#### (STA 251 notes scribed by Jianing Fan, Yuhan Ning)\n",
    "\n",
    "- square error loss\n",
    "- any predictor $f$\n",
    "\n",
    "Risk is\n",
    "$$\n",
    "R(f) = \\mathbb E (Y - f(X))^2.\n",
    "$$\n",
    "\n",
    "\\begin{align*}\n",
    "    & \\eta(x) = \\mathbb{E}[Y|X=x] \\quad \\text{minimizes}\\, R(f),\\\\\n",
    "    & R(\\eta) = \\mathbb{E}(Y-\\eta(X))^2=: R^{*}.\n",
    "\\end{align*}"
   ]
  },
  {
   "cell_type": "markdown",
   "metadata": {
    "slideshow": {
     "slide_type": "slide"
    }
   },
   "source": [
    "\\begin{align*}\n",
    "    R(f) &= \\mathbb{E}(Y-f(X))^2 = \\mathbb{E}(Y-\\eta(X)+\\eta(X)-f(X))^2\\\\\n",
    "    &= \\mathbb{E}(Y-\\eta(X))^2+\\mathbb{E}(\\eta(X)-f(X))^2+2\\mathbb{E}(Y-\\eta(X))(\\eta(X)-f(X))\\\\\n",
    "    &=R^{*}+\\mathbb{E}(\\eta(X)-f(X))^2+2\\mathbb{E}(Y-\\eta(X))(\\eta(X)-f(X)),\n",
    "\\end{align*}"
   ]
  },
  {
   "cell_type": "markdown",
   "metadata": {
    "slideshow": {
     "slide_type": "fragment"
    }
   },
   "source": [
    "\\begin{align*}\n",
    "    \\mathbb{E}(Y-\\eta(X))(\\eta(X)-f(X)) &= \\mathbb{E}\\big[\\mathbb{E}[(Y-\\eta(X))(\\eta(X)-f(X))|X]\\big]\\\\\n",
    "    &= \\mathbb{E}\\big[\\mathbb{E}[(Y-\\eta(X))|X](\\eta(X)-f(X))\\big]\\\\\n",
    "    &= \\mathbb{E}\\big[\\mathbb{E}[(Y-\\mathbb{E}[Y|X])|X](\\eta(X)-f(X))\\big]\\\\\n",
    "    &=0.\n",
    "\\end{align*}"
   ]
  },
  {
   "cell_type": "markdown",
   "metadata": {
    "slideshow": {
     "slide_type": "slide"
    }
   },
   "source": [
    "$$\\mathbb{E}(\\hat{f}(X)-\\eta(X))^2 = \\mathbb{E}\\left[ \\left[ \\hat{f}(X)-\\eta(X))^2 | X \\right] \\right]$$ \n",
    "So let's fix the predicted point $X = x$."
   ]
  },
  {
   "cell_type": "markdown",
   "metadata": {
    "slideshow": {
     "slide_type": "slide"
    }
   },
   "source": [
    "Notice that $f$ is random ($\\hat{f}$) because it comes from training data.  Let's condition on the training X's ($X_{[n]}$)...\n",
    "\n",
    "\\begin{align*}\n",
    "    \\mathbb{E}(\\hat{f}(x)-\\eta(x))^2 &= \\mathbb{E}(\\hat{f}(x)-\\mathbb{E}[\\hat{f}(x)|X_{[n]}])^2+\\mathbb{E}(\\mathbb{E}[\\hat{f}(x)|X_{[n]}]-\\eta(x))^2+ (\\text{cross-term}=0)\\\\\n",
    "    &= \\mathbb{E}(\\hat{f}(x)-\\mathbb{E}[\\hat{f}(x)|X_{[n]}])^2+\\mathbb{E}(\\mathbb{E}[\\hat{f}(x)|X_{[n]}]-\\eta(x))^2\\\\\n",
    "    &= \\mathbb E\\left[(\\hat{f}(x)-\\mathbb E[\\hat f(x) | X_{[n]}])^2 \\right] + \\mathbb{E} \\left[ \\left( \\mathbb E[\\hat{f}(x)|X_{[n]}]-\\eta(x)\\right)^2 \\right]\\\\\n",
    "    &= \\mathbb{E}[\\text{Var}(\\hat{f}(x)|X_{[n]})]+\\mathbb{E}[\\text{Bias}^2(\\hat{f}(x)|X_{[n]})],\n",
    "\\end{align*}\n",
    "\n",
    "where $\\text{Bias}(\\hat{f}(x)|X_{[n]}) = \\mathbb{E}[\\hat{f}(x)|X_{[n]}] -\\eta(x)$."
   ]
  },
  {
   "cell_type": "markdown",
   "metadata": {
    "slideshow": {
     "slide_type": "fragment"
    }
   },
   "source": [
    "$$\n",
    "R(\\hat{f}) = R^* + \\mathbb{E}[\\text{Bias}^2(\\hat{f}(X)|X_{[n]})+\\text{Var}(\\hat{f}(X)|X_{[n]})].\n",
    "$$\n",
    "Risk is irreducible error + bias + variance"
   ]
  },
  {
   "cell_type": "markdown",
   "metadata": {
    "slideshow": {
     "slide_type": "slide"
    }
   },
   "source": [
    "### Exercise 2.2\n",
    "\n",
    "Recall KNN regression:\n",
    "$$\n",
    "\\hat f_K(x) = \\frac 1K \\sum_{k=1}^K y_{j_k(x)}.\n",
    "$$\n",
    "where $j_k(x)$ is the index of the kth nearest neighbor of $x$ in $X_1,\\ldots,X_n$. (Consider $x$ fixed.)\n",
    "\n",
    "Assume homoscedasticity: $\\text{Var}(y_i) = \\sigma^2$ for all i.\n",
    "1. Derive a simple expression for $\\text{Var}(\\hat{f}(x)| X_{[n]})$\n",
    "2. Derive a simple expression for $\\text{Bias}(\\hat{f}(x)|X_{[n]})$\n",
    "3. What do you expect the tradeoff to be between these as $K$ gets large?"
   ]
  },
  {
   "cell_type": "markdown",
   "metadata": {
    "slideshow": {
     "slide_type": "slide"
    }
   },
   "source": [
    "$$\n",
    "\\begin{align}\n",
    "\\text{Var}(\\hat{f}(x)| X_{[n]}) &= \\text{Var}(\\frac{1}{K} \\sum_{k=1}^K y_{j_k(x)}| X_{[n]}) \\\\\n",
    "                                &= \\frac{1}{K^2} \\sum_{k=1}^K \\text{Var}(y_{j_k(x)}| X_{[n]}) = \\frac{\\sigma^2}{K}\n",
    "\\end{align}\n",
    "$$"
   ]
  },
  {
   "cell_type": "markdown",
   "metadata": {
    "slideshow": {
     "slide_type": "fragment"
    }
   },
   "source": [
    "$$\\text{Bias}(\\hat{f}(x)|X_{[n]}) = \\mathbb{E}[\\hat{f}(x)|X_{[n]}]-\\eta(x) = \\frac 1K \\sum_{k=1}^K \\eta(X_{j_k(x)}) - \\eta(x)$$"
   ]
  },
  {
   "cell_type": "markdown",
   "metadata": {
    "slideshow": {
     "slide_type": "fragment"
    }
   },
   "source": [
    "1. We can expect that the conditional variance decreases,\n",
    "2. The bias may increase because $\\eta(X_{j_k(x)})$ may be quite different from $\\eta(x)$ as $X_{j_k(x)}$ is far from $x$."
   ]
  },
  {
   "cell_type": "markdown",
   "metadata": {
    "slideshow": {
     "slide_type": "slide"
    }
   },
   "source": [
    "### BV tradeoff for KNN\n",
    "\n",
    "- low K\n",
    " - high variance\n",
    " - low bias\n",
    "- high K\n",
    " - low variance\n",
    " - high bias"
   ]
  },
  {
   "cell_type": "code",
   "execution_count": 167,
   "metadata": {
    "slideshow": {
     "slide_type": "skip"
    }
   },
   "outputs": [],
   "source": [
    "## Fit K neighbors regression\n",
    "x = np.arange(.05,1,.01)\n",
    "y = np.sin(1/x) + np.random.normal(0,.25,len(x))\n",
    "knn = neighbors.KNeighborsRegressor(n_neighbors=2)\n",
    "X = x.reshape(-1,1)\n",
    "knn.fit(X,y)\n",
    "y_pred = knn.predict(X)"
   ]
  },
  {
   "cell_type": "code",
   "execution_count": 168,
   "metadata": {
    "slideshow": {
     "slide_type": "slide"
    }
   },
   "outputs": [
    {
     "data": {
      "text/plain": [
       "[<matplotlib.lines.Line2D at 0x7f660fa9ef28>]"
      ]
     },
     "execution_count": 168,
     "metadata": {},
     "output_type": "execute_result"
    },
    {
     "data": {
      "image/png": "[encoded data removed]",
      "text/plain": [
       "<Figure size 432x288 with 1 Axes>"
      ]
     },
     "metadata": {
      "needs_background": "light"
     },
     "output_type": "display_data"
    }
   ],
   "source": [
    "## 2-nearest neighbors regression\n",
    "plt.plot(x,y,'.')\n",
    "plt.plot(x,y_pred)"
   ]
  },
  {
   "cell_type": "code",
   "execution_count": 169,
   "metadata": {
    "slideshow": {
     "slide_type": "skip"
    }
   },
   "outputs": [],
   "source": [
    "knn = neighbors.KNeighborsRegressor(n_neighbors=21)\n",
    "X = x.reshape(-1,1)\n",
    "knn.fit(X,y)\n",
    "y_pred = knn.predict(X)"
   ]
  },
  {
   "cell_type": "code",
   "execution_count": 170,
   "metadata": {
    "slideshow": {
     "slide_type": "slide"
    }
   },
   "outputs": [
    {
     "data": {
      "text/plain": [
       "[<matplotlib.lines.Line2D at 0x7f660fa7a780>]"
      ]
     },
     "execution_count": 170,
     "metadata": {},
     "output_type": "execute_result"
    },
    {
     "data": {
      "image/png": "[encoded data removed]",
      "text/plain": [
       "<Figure size 432x288 with 1 Axes>"
      ]
     },
     "metadata": {
      "needs_background": "light"
     },
     "output_type": "display_data"
    }
   ],
   "source": [
    "## 21-nearest neighbors regression\n",
    "plt.plot(x,y,'.')\n",
    "plt.plot(x,y_pred)"
   ]
  },
  {
   "cell_type": "code",
   "execution_count": 180,
   "metadata": {
    "slideshow": {
     "slide_type": "slide"
    }
   },
   "outputs": [
    {
     "data": {
      "text/plain": [
       "Text(0, 0.5, 'MSE')"
      ]
     },
     "execution_count": 180,
     "metadata": {},
     "output_type": "execute_result"
    },
    {
     "data": {
      "image/png": "[encoded data removed]",
      "text/plain": [
       "<Figure size 432x288 with 1 Axes>"
      ]
     },
     "metadata": {
      "needs_background": "light"
     },
     "output_type": "display_data"
    }
   ],
   "source": [
    "plt.plot(neighbors_K,MSEs[1:M+1],label='knn')\n",
    "plt.xlabel(r\"\"\"k (neighbors)\n",
    "low bias $\\rightarrow$ high bias\n",
    "high var $\\rightarrow$ low var\"\"\")\n",
    "plt.ylabel('MSE')"
   ]
  }
 ],
 "metadata": {
  "celltoolbar": "Slideshow",
  "kernelspec": {
   "display_name": "Python 3",
   "language": "python",
   "name": "python3"
  },
  "language_info": {
   "codemirror_mode": {
    "name": "ipython",
    "version": 3
   },
   "file_extension": ".py",
   "mimetype": "text/x-python",
   "name": "python",
   "nbconvert_exporter": "python",
   "pygments_lexer": "ipython3",
   "version": "3.6.5"
  }
 },
 "nbformat": 4,
 "nbformat_minor": 2
}
